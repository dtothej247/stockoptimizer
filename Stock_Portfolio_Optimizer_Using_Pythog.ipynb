{
  "nbformat": 4,
  "nbformat_minor": 0,
  "metadata": {
    "colab": {
      "name": "Stock Portfolio Optimizer Using Pythog.ipynb",
      "provenance": [],
      "authorship_tag": "ABX9TyOFt1LIi90OSonuogl7kZso",
      "include_colab_link": true
    },
    "kernelspec": {
      "name": "python3",
      "display_name": "Python 3"
    }
  },
  "cells": [
    {
      "cell_type": "markdown",
      "metadata": {
        "id": "view-in-github",
        "colab_type": "text"
      },
      "source": [
        "<a href=\"https://colab.research.google.com/github/dtothej247/stockoptimizer/blob/main/Stock_Portfolio_Optimizer_Using_Pythog.ipynb\" target=\"_parent\"><img src=\"https://colab.research.google.com/assets/colab-badge.svg\" alt=\"Open In Colab\"/></a>"
      ]
    },
    {
      "cell_type": "code",
      "metadata": {
        "id": "2QgzVQGXO9iZ"
      },
      "source": [
        "# Description: This program attempts to optimize a users portfolio using the Efficient Frontier\n",
        "# Credit to: https://youtu.be/9fjs8FeLMJk"
      ],
      "execution_count": 7,
      "outputs": []
    },
    {
      "cell_type": "code",
      "metadata": {
        "id": "7neU1rZIPKr6"
      },
      "source": [
        "#import python libraries\n",
        "from pandas_datareader import data as web\n",
        "import pandas as pd\n",
        "import numpy as np\n",
        "from datetime import datetime\n",
        "import matplotlib.pyplot as plt\n",
        "plt.style.use('fivethirtyeight')"
      ],
      "execution_count": 8,
      "outputs": []
    },
    {
      "cell_type": "code",
      "metadata": {
        "id": "3VRQdCSfPkGn"
      },
      "source": [
        "#Get stock tickers in the portfolio\n",
        "assets = ['AAPL','MSFT','TSLA','GOOG']"
      ],
      "execution_count": 9,
      "outputs": []
    },
    {
      "cell_type": "code",
      "metadata": {
        "id": "WXCqzrTwQh5G"
      },
      "source": [
        "# Assign weights to tickers\n",
        "weights = np.array([0.25,0.25,0.25,0.25])"
      ],
      "execution_count": 10,
      "outputs": []
    },
    {
      "cell_type": "code",
      "metadata": {
        "id": "XrIN5vl5Rg03"
      },
      "source": [
        "#Get stock starting date\n",
        "stockStartDate = '2013-01-01'"
      ],
      "execution_count": 11,
      "outputs": []
    },
    {
      "cell_type": "code",
      "metadata": {
        "colab": {
          "base_uri": "https://localhost:8080/",
          "height": 35
        },
        "id": "1OMxbocqRvgj",
        "outputId": "1655f7bd-01a9-4354-ab86-e581893097b1"
      },
      "source": [
        "# End date (today)\n",
        "today = datetime.today().strftime('%Y-%m-%d')\n",
        "today"
      ],
      "execution_count": 12,
      "outputs": [
        {
          "output_type": "execute_result",
          "data": {
            "application/vnd.google.colaboratory.intrinsic+json": {
              "type": "string"
            },
            "text/plain": [
              "'2021-04-21'"
            ]
          },
          "metadata": {
            "tags": []
          },
          "execution_count": 12
        }
      ]
    },
    {
      "cell_type": "code",
      "metadata": {
        "id": "YRDes7EHSBw9"
      },
      "source": [
        "#Create Data Frame to store the adjusted close price of the stocks\n",
        "df = pd.DataFrame()\n",
        "\n",
        "#Store the adjusted close price of the stock into the df\n",
        "for stock in assets:\n",
        "  df[stock] = web.DataReader(stock, data_source='yahoo', start = stockStartDate, end = today)['Adj Close']"
      ],
      "execution_count": 13,
      "outputs": []
    },
    {
      "cell_type": "code",
      "metadata": {
        "colab": {
          "base_uri": "https://localhost:8080/",
          "height": 450
        },
        "id": "xHk-5FAFSnzB",
        "outputId": "012b65b4-3057-40a5-f8f6-5677c2304608"
      },
      "source": [
        "# Show data frame (df)\n",
        "df"
      ],
      "execution_count": 14,
      "outputs": [
        {
          "output_type": "execute_result",
          "data": {
            "text/html": [
              "<div>\n",
              "<style scoped>\n",
              "    .dataframe tbody tr th:only-of-type {\n",
              "        vertical-align: middle;\n",
              "    }\n",
              "\n",
              "    .dataframe tbody tr th {\n",
              "        vertical-align: top;\n",
              "    }\n",
              "\n",
              "    .dataframe thead th {\n",
              "        text-align: right;\n",
              "    }\n",
              "</style>\n",
              "<table border=\"1\" class=\"dataframe\">\n",
              "  <thead>\n",
              "    <tr style=\"text-align: right;\">\n",
              "      <th></th>\n",
              "      <th>AAPL</th>\n",
              "      <th>MSFT</th>\n",
              "      <th>TSLA</th>\n",
              "      <th>GOOG</th>\n",
              "    </tr>\n",
              "    <tr>\n",
              "      <th>Date</th>\n",
              "      <th></th>\n",
              "      <th></th>\n",
              "      <th></th>\n",
              "      <th></th>\n",
              "    </tr>\n",
              "  </thead>\n",
              "  <tbody>\n",
              "    <tr>\n",
              "      <th>2013-01-02</th>\n",
              "      <td>17.039789</td>\n",
              "      <td>23.127514</td>\n",
              "      <td>7.072000</td>\n",
              "      <td>360.274597</td>\n",
              "    </tr>\n",
              "    <tr>\n",
              "      <th>2013-01-03</th>\n",
              "      <td>16.824715</td>\n",
              "      <td>22.817688</td>\n",
              "      <td>6.954000</td>\n",
              "      <td>360.483826</td>\n",
              "    </tr>\n",
              "    <tr>\n",
              "      <th>2013-01-04</th>\n",
              "      <td>16.356062</td>\n",
              "      <td>22.390646</td>\n",
              "      <td>6.880000</td>\n",
              "      <td>367.607117</td>\n",
              "    </tr>\n",
              "    <tr>\n",
              "      <th>2013-01-07</th>\n",
              "      <td>16.259851</td>\n",
              "      <td>22.348782</td>\n",
              "      <td>6.868000</td>\n",
              "      <td>366.003143</td>\n",
              "    </tr>\n",
              "    <tr>\n",
              "      <th>2013-01-08</th>\n",
              "      <td>16.303608</td>\n",
              "      <td>22.231552</td>\n",
              "      <td>6.736000</td>\n",
              "      <td>365.280823</td>\n",
              "    </tr>\n",
              "    <tr>\n",
              "      <th>...</th>\n",
              "      <td>...</td>\n",
              "      <td>...</td>\n",
              "      <td>...</td>\n",
              "      <td>...</td>\n",
              "    </tr>\n",
              "    <tr>\n",
              "      <th>2021-04-15</th>\n",
              "      <td>134.500000</td>\n",
              "      <td>259.500000</td>\n",
              "      <td>738.849976</td>\n",
              "      <td>2296.659912</td>\n",
              "    </tr>\n",
              "    <tr>\n",
              "      <th>2021-04-16</th>\n",
              "      <td>134.160004</td>\n",
              "      <td>260.739990</td>\n",
              "      <td>739.780029</td>\n",
              "      <td>2297.760010</td>\n",
              "    </tr>\n",
              "    <tr>\n",
              "      <th>2021-04-19</th>\n",
              "      <td>134.839996</td>\n",
              "      <td>258.739990</td>\n",
              "      <td>714.630005</td>\n",
              "      <td>2302.399902</td>\n",
              "    </tr>\n",
              "    <tr>\n",
              "      <th>2021-04-20</th>\n",
              "      <td>133.110001</td>\n",
              "      <td>258.260010</td>\n",
              "      <td>718.989990</td>\n",
              "      <td>2293.629883</td>\n",
              "    </tr>\n",
              "    <tr>\n",
              "      <th>2021-04-21</th>\n",
              "      <td>133.119995</td>\n",
              "      <td>259.529999</td>\n",
              "      <td>726.439880</td>\n",
              "      <td>2276.639893</td>\n",
              "    </tr>\n",
              "  </tbody>\n",
              "</table>\n",
              "<p>2090 rows × 4 columns</p>\n",
              "</div>"
            ],
            "text/plain": [
              "                  AAPL        MSFT        TSLA         GOOG\n",
              "Date                                                       \n",
              "2013-01-02   17.039789   23.127514    7.072000   360.274597\n",
              "2013-01-03   16.824715   22.817688    6.954000   360.483826\n",
              "2013-01-04   16.356062   22.390646    6.880000   367.607117\n",
              "2013-01-07   16.259851   22.348782    6.868000   366.003143\n",
              "2013-01-08   16.303608   22.231552    6.736000   365.280823\n",
              "...                ...         ...         ...          ...\n",
              "2021-04-15  134.500000  259.500000  738.849976  2296.659912\n",
              "2021-04-16  134.160004  260.739990  739.780029  2297.760010\n",
              "2021-04-19  134.839996  258.739990  714.630005  2302.399902\n",
              "2021-04-20  133.110001  258.260010  718.989990  2293.629883\n",
              "2021-04-21  133.119995  259.529999  726.439880  2276.639893\n",
              "\n",
              "[2090 rows x 4 columns]"
            ]
          },
          "metadata": {
            "tags": []
          },
          "execution_count": 14
        }
      ]
    },
    {
      "cell_type": "code",
      "metadata": {
        "colab": {
          "base_uri": "https://localhost:8080/",
          "height": 325
        },
        "id": "FDQTYrqUSuAk",
        "outputId": "a0157df9-b9b9-414a-ca91-f2503d19662a"
      },
      "source": [
        "#Visually show the stock / protfolio\n",
        "title = 'Portfolio Adjusted Close Price History'\n",
        "\n",
        "#Get stocks\n",
        "my_stocks = df\n",
        "\n",
        "#Create and plot graph\n",
        "for c in my_stocks.columns.values:\n",
        "  plt.plot(my_stocks[c], label = c)\n",
        "\n",
        "plt.title(title)\n",
        "plt.xlabel('Date', fontsize = 18)\n",
        "plt.ylabel('Adj. Price in USD ($)', fontsize = 18)\n",
        "plt.legend(my_stocks.columns.values, loc='upper left')\n",
        "plt.show()"
      ],
      "execution_count": 15,
      "outputs": [
        {
          "output_type": "display_data",
          "data": {
            "image/png": "[encoded data removed]",
            "text/plain": [
              "<Figure size 432x288 with 1 Axes>"
            ]
          },
          "metadata": {
            "tags": []
          }
        }
      ]
    },
    {
      "cell_type": "code",
      "metadata": {
        "colab": {
          "base_uri": "https://localhost:8080/",
          "height": 450
        },
        "id": "YnGJbBsfUAms",
        "outputId": "f75b1741-8c27-4c6e-c4b8-a0cdcf12e661"
      },
      "source": [
        "# Show daily simple returns\n",
        "returns = df.pct_change()\n",
        "returns"
      ],
      "execution_count": 16,
      "outputs": [
        {
          "output_type": "execute_result",
          "data": {
            "text/html": [
              "<div>\n",
              "<style scoped>\n",
              "    .dataframe tbody tr th:only-of-type {\n",
              "        vertical-align: middle;\n",
              "    }\n",
              "\n",
              "    .dataframe tbody tr th {\n",
              "        vertical-align: top;\n",
              "    }\n",
              "\n",
              "    .dataframe thead th {\n",
              "        text-align: right;\n",
              "    }\n",
              "</style>\n",
              "<table border=\"1\" class=\"dataframe\">\n",
              "  <thead>\n",
              "    <tr style=\"text-align: right;\">\n",
              "      <th></th>\n",
              "      <th>AAPL</th>\n",
              "      <th>MSFT</th>\n",
              "      <th>TSLA</th>\n",
              "      <th>GOOG</th>\n",
              "    </tr>\n",
              "    <tr>\n",
              "      <th>Date</th>\n",
              "      <th></th>\n",
              "      <th></th>\n",
              "      <th></th>\n",
              "      <th></th>\n",
              "    </tr>\n",
              "  </thead>\n",
              "  <tbody>\n",
              "    <tr>\n",
              "      <th>2013-01-02</th>\n",
              "      <td>NaN</td>\n",
              "      <td>NaN</td>\n",
              "      <td>NaN</td>\n",
              "      <td>NaN</td>\n",
              "    </tr>\n",
              "    <tr>\n",
              "      <th>2013-01-03</th>\n",
              "      <td>-0.012622</td>\n",
              "      <td>-0.013396</td>\n",
              "      <td>-0.016686</td>\n",
              "      <td>0.000581</td>\n",
              "    </tr>\n",
              "    <tr>\n",
              "      <th>2013-01-04</th>\n",
              "      <td>-0.027855</td>\n",
              "      <td>-0.018715</td>\n",
              "      <td>-0.010641</td>\n",
              "      <td>0.019760</td>\n",
              "    </tr>\n",
              "    <tr>\n",
              "      <th>2013-01-07</th>\n",
              "      <td>-0.005882</td>\n",
              "      <td>-0.001870</td>\n",
              "      <td>-0.001744</td>\n",
              "      <td>-0.004363</td>\n",
              "    </tr>\n",
              "    <tr>\n",
              "      <th>2013-01-08</th>\n",
              "      <td>0.002691</td>\n",
              "      <td>-0.005245</td>\n",
              "      <td>-0.019220</td>\n",
              "      <td>-0.001974</td>\n",
              "    </tr>\n",
              "    <tr>\n",
              "      <th>...</th>\n",
              "      <td>...</td>\n",
              "      <td>...</td>\n",
              "      <td>...</td>\n",
              "      <td>...</td>\n",
              "    </tr>\n",
              "    <tr>\n",
              "      <th>2021-04-15</th>\n",
              "      <td>0.018708</td>\n",
              "      <td>0.015298</td>\n",
              "      <td>0.009041</td>\n",
              "      <td>0.018547</td>\n",
              "    </tr>\n",
              "    <tr>\n",
              "      <th>2021-04-16</th>\n",
              "      <td>-0.002528</td>\n",
              "      <td>0.004778</td>\n",
              "      <td>0.001259</td>\n",
              "      <td>0.000479</td>\n",
              "    </tr>\n",
              "    <tr>\n",
              "      <th>2021-04-19</th>\n",
              "      <td>0.005069</td>\n",
              "      <td>-0.007670</td>\n",
              "      <td>-0.033997</td>\n",
              "      <td>0.002019</td>\n",
              "    </tr>\n",
              "    <tr>\n",
              "      <th>2021-04-20</th>\n",
              "      <td>-0.012830</td>\n",
              "      <td>-0.001855</td>\n",
              "      <td>0.006101</td>\n",
              "      <td>-0.003809</td>\n",
              "    </tr>\n",
              "    <tr>\n",
              "      <th>2021-04-21</th>\n",
              "      <td>0.000075</td>\n",
              "      <td>0.004917</td>\n",
              "      <td>0.010362</td>\n",
              "      <td>-0.007407</td>\n",
              "    </tr>\n",
              "  </tbody>\n",
              "</table>\n",
              "<p>2090 rows × 4 columns</p>\n",
              "</div>"
            ],
            "text/plain": [
              "                AAPL      MSFT      TSLA      GOOG\n",
              "Date                                              \n",
              "2013-01-02       NaN       NaN       NaN       NaN\n",
              "2013-01-03 -0.012622 -0.013396 -0.016686  0.000581\n",
              "2013-01-04 -0.027855 -0.018715 -0.010641  0.019760\n",
              "2013-01-07 -0.005882 -0.001870 -0.001744 -0.004363\n",
              "2013-01-08  0.002691 -0.005245 -0.019220 -0.001974\n",
              "...              ...       ...       ...       ...\n",
              "2021-04-15  0.018708  0.015298  0.009041  0.018547\n",
              "2021-04-16 -0.002528  0.004778  0.001259  0.000479\n",
              "2021-04-19  0.005069 -0.007670 -0.033997  0.002019\n",
              "2021-04-20 -0.012830 -0.001855  0.006101 -0.003809\n",
              "2021-04-21  0.000075  0.004917  0.010362 -0.007407\n",
              "\n",
              "[2090 rows x 4 columns]"
            ]
          },
          "metadata": {
            "tags": []
          },
          "execution_count": 16
        }
      ]
    },
    {
      "cell_type": "code",
      "metadata": {
        "colab": {
          "base_uri": "https://localhost:8080/",
          "height": 173
        },
        "id": "tLBVVP9HULdZ",
        "outputId": "f67065a1-062e-4d07-c427-fe3a412ac697"
      },
      "source": [
        "#Create and show the annualized covariance matrix\n",
        "cov_matrix_annual = returns.cov() * 252 # shows how two random variables vary or move together\n",
        "cov_matrix_annual"
      ],
      "execution_count": 18,
      "outputs": [
        {
          "output_type": "execute_result",
          "data": {
            "text/html": [
              "<div>\n",
              "<style scoped>\n",
              "    .dataframe tbody tr th:only-of-type {\n",
              "        vertical-align: middle;\n",
              "    }\n",
              "\n",
              "    .dataframe tbody tr th {\n",
              "        vertical-align: top;\n",
              "    }\n",
              "\n",
              "    .dataframe thead th {\n",
              "        text-align: right;\n",
              "    }\n",
              "</style>\n",
              "<table border=\"1\" class=\"dataframe\">\n",
              "  <thead>\n",
              "    <tr style=\"text-align: right;\">\n",
              "      <th></th>\n",
              "      <th>AAPL</th>\n",
              "      <th>MSFT</th>\n",
              "      <th>TSLA</th>\n",
              "      <th>GOOG</th>\n",
              "    </tr>\n",
              "  </thead>\n",
              "  <tbody>\n",
              "    <tr>\n",
              "      <th>AAPL</th>\n",
              "      <td>0.082383</td>\n",
              "      <td>0.044491</td>\n",
              "      <td>0.052726</td>\n",
              "      <td>0.038909</td>\n",
              "    </tr>\n",
              "    <tr>\n",
              "      <th>MSFT</th>\n",
              "      <td>0.044491</td>\n",
              "      <td>0.069750</td>\n",
              "      <td>0.051474</td>\n",
              "      <td>0.045126</td>\n",
              "    </tr>\n",
              "    <tr>\n",
              "      <th>TSLA</th>\n",
              "      <td>0.052726</td>\n",
              "      <td>0.051474</td>\n",
              "      <td>0.321333</td>\n",
              "      <td>0.047910</td>\n",
              "    </tr>\n",
              "    <tr>\n",
              "      <th>GOOG</th>\n",
              "      <td>0.038909</td>\n",
              "      <td>0.045126</td>\n",
              "      <td>0.047910</td>\n",
              "      <td>0.066850</td>\n",
              "    </tr>\n",
              "  </tbody>\n",
              "</table>\n",
              "</div>"
            ],
            "text/plain": [
              "          AAPL      MSFT      TSLA      GOOG\n",
              "AAPL  0.082383  0.044491  0.052726  0.038909\n",
              "MSFT  0.044491  0.069750  0.051474  0.045126\n",
              "TSLA  0.052726  0.051474  0.321333  0.047910\n",
              "GOOG  0.038909  0.045126  0.047910  0.066850"
            ]
          },
          "metadata": {
            "tags": []
          },
          "execution_count": 18
        }
      ]
    },
    {
      "cell_type": "code",
      "metadata": {
        "colab": {
          "base_uri": "https://localhost:8080/"
        },
        "id": "u9Zp1LljUwRY",
        "outputId": "e8c1ca7b-ca63-448c-fcbd-7685bce1bb18"
      },
      "source": [
        "#Calculate portfolio variance\n",
        "port_variance = np.dot(weights.T,np.dot(cov_matrix_annual,weights))\n",
        "port_variance"
      ],
      "execution_count": 19,
      "outputs": [
        {
          "output_type": "execute_result",
          "data": {
            "text/plain": [
              "0.06884915861456953"
            ]
          },
          "metadata": {
            "tags": []
          },
          "execution_count": 19
        }
      ]
    },
    {
      "cell_type": "code",
      "metadata": {
        "colab": {
          "base_uri": "https://localhost:8080/"
        },
        "id": "gO-i08aSVGgh",
        "outputId": "d38215df-4d42-4d5e-9873-40dfb2a40705"
      },
      "source": [
        "# Calculate portfolio volatility\n",
        "port_volatility = np.sqrt(port_variance)\n",
        "port_volatility"
      ],
      "execution_count": 20,
      "outputs": [
        {
          "output_type": "execute_result",
          "data": {
            "text/plain": [
              "0.26239123196968595"
            ]
          },
          "metadata": {
            "tags": []
          },
          "execution_count": 20
        }
      ]
    },
    {
      "cell_type": "code",
      "metadata": {
        "colab": {
          "base_uri": "https://localhost:8080/"
        },
        "id": "9N0EzLMZVYc5",
        "outputId": "d43a3cf0-62b2-4aaf-9d6d-ca90730eacc7"
      },
      "source": [
        "# Calculate annual portfolio return\n",
        "portfolioSimpleAnnualReturn = np.sum(returns.mean() * weights) * 252\n",
        "portfolioSimpleAnnualReturn"
      ],
      "execution_count": 21,
      "outputs": [
        {
          "output_type": "execute_result",
          "data": {
            "text/plain": [
              "0.39756329095798626"
            ]
          },
          "metadata": {
            "tags": []
          },
          "execution_count": 21
        }
      ]
    },
    {
      "cell_type": "code",
      "metadata": {
        "colab": {
          "base_uri": "https://localhost:8080/"
        },
        "id": "LdB4DdkVV3Am",
        "outputId": "74c5b5c9-29fb-46bd-d601-cae2861087fd"
      },
      "source": [
        "# Show expected annual return, volatility, and variance\n",
        "\n",
        "percent_var = str( round(port_variance,4) * 100) + '%'\n",
        "percent_vols = str(round(port_volatility, 4) * 100) + '%'\n",
        "percent_ret = str(round(portfolioSimpleAnnualReturn,4) * 100) + '%'\n",
        "\n",
        "print('Expected Annual Return: ' + percent_ret)\n",
        "print('Annual Volatility: ' + percent_vols)\n",
        "print('Annual Variance: ' + percent_var)"
      ],
      "execution_count": 23,
      "outputs": [
        {
          "output_type": "stream",
          "text": [
            "Expected Annual Return: 39.76%\n",
            "Annual Volatility: 26.240000000000002%\n",
            "Annual Variance: 6.88%\n"
          ],
          "name": "stdout"
        }
      ]
    },
    {
      "cell_type": "code",
      "metadata": {
        "colab": {
          "base_uri": "https://localhost:8080/"
        },
        "id": "yfvGQ4NYXz9g",
        "outputId": "27f02bd2-2857-4806-f00e-e788ead866c8"
      },
      "source": [
        "pip install PyPortfolioOpt"
      ],
      "execution_count": 24,
      "outputs": [
        {
          "output_type": "stream",
          "text": [
            "Collecting PyPortfolioOpt\n",
            "\u001b[?25l  Downloading https://files.pythonhosted.org/packages/46/55/7d39d78d554ee33a7317e345caf01339da11406c28f18bc48794fe967935/PyPortfolioOpt-1.4.1-py3-none-any.whl (56kB)\n",
            "\r\u001b[K     |█████▊                          | 10kB 18.2MB/s eta 0:00:01\r\u001b[K     |███████████▌                    | 20kB 23.4MB/s eta 0:00:01\r\u001b[K     |█████████████████▎              | 30kB 24.9MB/s eta 0:00:01\r\u001b[K     |███████████████████████         | 40kB 21.7MB/s eta 0:00:01\r\u001b[K     |████████████████████████████▉   | 51kB 16.2MB/s eta 0:00:01\r\u001b[K     |████████████████████████████████| 61kB 5.9MB/s \n",
            "\u001b[?25hRequirement already satisfied: scipy<2.0,>=1.3 in /usr/local/lib/python3.7/dist-packages (from PyPortfolioOpt) (1.4.1)\n",
            "Requirement already satisfied: pandas>=0.19 in /usr/local/lib/python3.7/dist-packages (from PyPortfolioOpt) (1.1.5)\n",
            "Collecting cvxpy<2.0.0,>=1.1.10\n",
            "\u001b[?25l  Downloading https://files.pythonhosted.org/packages/83/47/fd1e818b8da30ef18695a0fbf9b66611ab18506f0a44fc69480a75f4db1b/cvxpy-1.1.12.tar.gz (1.3MB)\n",
            "\u001b[K     |████████████████████████████████| 1.3MB 20.2MB/s \n",
            "\u001b[?25h  Installing build dependencies ... \u001b[?25l\u001b[?25hdone\n",
            "  Getting requirements to build wheel ... \u001b[?25l\u001b[?25hdone\n",
            "    Preparing wheel metadata ... \u001b[?25l\u001b[?25hdone\n",
            "Requirement already satisfied: numpy<2.0,>=1.12 in /usr/local/lib/python3.7/dist-packages (from PyPortfolioOpt) (1.19.5)\n",
            "Requirement already satisfied: python-dateutil>=2.7.3 in /usr/local/lib/python3.7/dist-packages (from pandas>=0.19->PyPortfolioOpt) (2.8.1)\n",
            "Requirement already satisfied: pytz>=2017.2 in /usr/local/lib/python3.7/dist-packages (from pandas>=0.19->PyPortfolioOpt) (2018.9)\n",
            "Requirement already satisfied: scs>=1.1.6 in /usr/local/lib/python3.7/dist-packages (from cvxpy<2.0.0,>=1.1.10->PyPortfolioOpt) (2.1.3)\n",
            "Requirement already satisfied: osqp>=0.4.1 in /usr/local/lib/python3.7/dist-packages (from cvxpy<2.0.0,>=1.1.10->PyPortfolioOpt) (0.6.2.post0)\n",
            "Requirement already satisfied: ecos>=2 in /usr/local/lib/python3.7/dist-packages (from cvxpy<2.0.0,>=1.1.10->PyPortfolioOpt) (2.0.7.post1)\n",
            "Requirement already satisfied: six>=1.5 in /usr/local/lib/python3.7/dist-packages (from python-dateutil>=2.7.3->pandas>=0.19->PyPortfolioOpt) (1.15.0)\n",
            "Requirement already satisfied: qdldl in /usr/local/lib/python3.7/dist-packages (from osqp>=0.4.1->cvxpy<2.0.0,>=1.1.10->PyPortfolioOpt) (0.1.5.post0)\n",
            "Building wheels for collected packages: cvxpy\n",
            "  Building wheel for cvxpy (PEP 517) ... \u001b[?25l\u001b[?25hdone\n",
            "  Created wheel for cvxpy: filename=cvxpy-1.1.12-cp37-cp37m-linux_x86_64.whl size=2731688 sha256=1fb5838c2eecfe603f8696b10f56663a4120fafcb4738699e4216f447322580e\n",
            "  Stored in directory: /root/.cache/pip/wheels/9b/62/55/1da181c05c710c5d99bd560edebec3bd6a61cb69acef9dc00e\n",
            "Successfully built cvxpy\n",
            "Installing collected packages: cvxpy, PyPortfolioOpt\n",
            "  Found existing installation: cvxpy 1.0.31\n",
            "    Uninstalling cvxpy-1.0.31:\n",
            "      Successfully uninstalled cvxpy-1.0.31\n",
            "Successfully installed PyPortfolioOpt-1.4.1 cvxpy-1.1.12\n"
          ],
          "name": "stdout"
        }
      ]
    },
    {
      "cell_type": "code",
      "metadata": {
        "id": "--y72cNhYJo9"
      },
      "source": [
        "from pypfopt.efficient_frontier import EfficientFrontier\n",
        "from pypfopt import risk_models\n",
        "from pypfopt import expected_returns\n"
      ],
      "execution_count": 25,
      "outputs": []
    },
    {
      "cell_type": "code",
      "metadata": {
        "colab": {
          "base_uri": "https://localhost:8080/"
        },
        "id": "TC1HhIvNYnyx",
        "outputId": "6f57b9b3-974a-4bf4-dad6-d3760e651bf6"
      },
      "source": [
        "# Portfolio Optimization\n",
        "\n",
        "#Calculate expected returns and the annualized sample covariance of asset returns\n",
        "mu = expected_returns.mean_historical_return(df)\n",
        "S = risk_models.sample_cov(df)\n",
        "\n",
        "# Optimize for maximum sharpe ratio - measures performance of an investment ?\n",
        "ef = EfficientFrontier(mu, S)\n",
        "weights = ef.max_sharpe()\n",
        "cleaned_weights = ef.clean_weights()\n",
        "print(cleaned_weights)\n",
        "ef.portfolio_performance(verbose = True)\n"
      ],
      "execution_count": 27,
      "outputs": [
        {
          "output_type": "stream",
          "text": [
            "OrderedDict([('AAPL', 0.08641), ('MSFT', 0.58344), ('TSLA', 0.33015), ('GOOG', 0.0)])\n",
            "Expected annual return: 46.9%\n",
            "Annual volatility: 29.4%\n",
            "Sharpe Ratio: 1.52\n"
          ],
          "name": "stdout"
        },
        {
          "output_type": "execute_result",
          "data": {
            "text/plain": [
              "(0.4690321245773702, 0.2944629094765761, 1.5249191328563223)"
            ]
          },
          "metadata": {
            "tags": []
          },
          "execution_count": 27
        }
      ]
    },
    {
      "cell_type": "code",
      "metadata": {
        "colab": {
          "base_uri": "https://localhost:8080/"
        },
        "id": "dyYzTRVVddPz",
        "outputId": "5b166abb-88c9-4d89-e3e4-e41f7f0619f9"
      },
      "source": [
        "from pypfopt.discrete_allocation import DiscreteAllocation, get_latest_prices\n",
        "\n",
        "latest_prices = get_latest_prices(df)\n",
        "weights = cleaned_weights\n",
        "da = DiscreteAllocation(weights, latest_prices, total_portfolio_value = 10000)\n",
        "\n",
        "allocation, leftover = da.lp_portfolio()\n",
        "print('Discrete Allocation:', allocation)\n",
        "print('Funds remaining: ${:0.2f}'.format(leftover))"
      ],
      "execution_count": 30,
      "outputs": [
        {
          "output_type": "stream",
          "text": [
            "Discrete Allocation: {'AAPL': 7, 'MSFT': 23, 'TSLA': 4}\n",
            "Funds remaining: $193.21\n"
          ],
          "name": "stdout"
        }
      ]
    }
  ]
}